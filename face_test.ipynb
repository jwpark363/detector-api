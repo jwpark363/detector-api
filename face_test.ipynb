{
 "cells": [
  {
   "cell_type": "code",
   "execution_count": 1,
   "id": "c466618d",
   "metadata": {},
   "outputs": [
    {
     "name": "stderr",
     "output_type": "stream",
     "text": [
      "/home/park363/myproject/detector-api/.venv/lib/python3.11/site-packages/face_recognition_models/__init__.py:7: UserWarning: pkg_resources is deprecated as an API. See https://setuptools.pypa.io/en/latest/pkg_resources.html. The pkg_resources package is slated for removal as early as 2025-11-30. Refrain from using this package or pin to Setuptools<81.\n",
      "  from pkg_resources import resource_filename\n"
     ]
    }
   ],
   "source": [
    "from app.lib.face_recognition import FaceRecognition\n",
    "import joblib"
   ]
  },
  {
   "cell_type": "code",
   "execution_count": 2,
   "id": "03b1888d",
   "metadata": {},
   "outputs": [
    {
     "name": "stdout",
     "output_type": "stream",
     "text": [
      "1. load train folder : ./app/data/recognition_train_image\n",
      "2 - 1. train file : 101001.jpg \n",
      "2 - 2. train file : 101002.jpg \n",
      "2 - 3. train file : 101003.jpg \n",
      "2 - 4. train file : 101004.jpg \n",
      "2 - 5. train file : 101005.jpg \n",
      "2 - 6. train file : 101006.jpg \n",
      "2 - 7. train file : 101007.jpg \n",
      "2 - 8. train file : 101008.jpg \n",
      "2 - 9. train file : labels.json \n",
      "2 - 9 *. name table\n",
      "3. train completed!\n",
      "encoding :  8\n",
      "labels :  ['101001', '101002', '101003', '101004', '101005', '101006', '101007', '101008']\n",
      "names :  {'101001': '박종욱', '101002': '강경란', '101003': '김나래', '101004': '이재진', '101005': '이진섭', '101006': '장찬영', '101007': '전민우', '101008': '차요준'}\n"
     ]
    },
    {
     "data": {
      "text/plain": [
       "['./app/models/recognition_model.joblib']"
      ]
     },
     "execution_count": 2,
     "metadata": {},
     "output_type": "execute_result"
    }
   ],
   "source": [
    "model = FaceRecognition()\n",
    "model.fit('./app/data/recognition_train_image')\n",
    "joblib.dump(model,'./app/models/recognition_model.joblib')"
   ]
  },
  {
   "cell_type": "code",
   "execution_count": 6,
   "id": "8ef0a382",
   "metadata": {},
   "outputs": [
    {
     "data": {
      "text/plain": [
       "('101001', '박종욱')"
      ]
     },
     "execution_count": 6,
     "metadata": {},
     "output_type": "execute_result"
    }
   ],
   "source": [
    "model = joblib.load('./app/models/recognition_model.joblib')\n",
    "model.whoami('./test.jpg')"
   ]
  },
  {
   "cell_type": "code",
   "execution_count": 7,
   "id": "ae653622",
   "metadata": {},
   "outputs": [],
   "source": [
    "from app.core.face_recognition import face_detector"
   ]
  },
  {
   "cell_type": "code",
   "execution_count": 8,
   "id": "8af22ce0",
   "metadata": {},
   "outputs": [
    {
     "data": {
      "text/plain": [
       "['101001',\n",
       " '101002',\n",
       " '101003',\n",
       " '101004',\n",
       " '101005',\n",
       " '101006',\n",
       " '101007',\n",
       " '101008']"
      ]
     },
     "execution_count": 8,
     "metadata": {},
     "output_type": "execute_result"
    }
   ],
   "source": [
    "face_detector.labels()"
   ]
  },
  {
   "cell_type": "code",
   "execution_count": null,
   "id": "0f1cf568",
   "metadata": {},
   "outputs": [],
   "source": []
  }
 ],
 "metadata": {
  "kernelspec": {
   "display_name": "detector-api",
   "language": "python",
   "name": "python3"
  },
  "language_info": {
   "codemirror_mode": {
    "name": "ipython",
    "version": 3
   },
   "file_extension": ".py",
   "mimetype": "text/x-python",
   "name": "python",
   "nbconvert_exporter": "python",
   "pygments_lexer": "ipython3",
   "version": "3.11.13"
  }
 },
 "nbformat": 4,
 "nbformat_minor": 5
}
