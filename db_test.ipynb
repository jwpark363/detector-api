{
 "cells": [
  {
   "cell_type": "code",
   "execution_count": 1,
   "id": "1953e744",
   "metadata": {},
   "outputs": [],
   "source": [
    "from app.data.sql_util import read_sql"
   ]
  },
  {
   "cell_type": "code",
   "execution_count": 2,
   "id": "7a23c46a",
   "metadata": {},
   "outputs": [
    {
     "data": {
      "text/html": [
       "<div>\n",
       "<style scoped>\n",
       "    .dataframe tbody tr th:only-of-type {\n",
       "        vertical-align: middle;\n",
       "    }\n",
       "\n",
       "    .dataframe tbody tr th {\n",
       "        vertical-align: top;\n",
       "    }\n",
       "\n",
       "    .dataframe thead th {\n",
       "        text-align: right;\n",
       "    }\n",
       "</style>\n",
       "<table border=\"1\" class=\"dataframe\">\n",
       "  <thead>\n",
       "    <tr style=\"text-align: right;\">\n",
       "      <th></th>\n",
       "      <th>id</th>\n",
       "      <th>employee_id</th>\n",
       "      <th>name</th>\n",
       "      <th>reg_date</th>\n",
       "    </tr>\n",
       "  </thead>\n",
       "  <tbody>\n",
       "    <tr>\n",
       "      <th>0</th>\n",
       "      <td>1</td>\n",
       "      <td>101001</td>\n",
       "      <td>박종욱</td>\n",
       "      <td>2025-09-18 14:09:01</td>\n",
       "    </tr>\n",
       "    <tr>\n",
       "      <th>1</th>\n",
       "      <td>2</td>\n",
       "      <td>101002</td>\n",
       "      <td>강경란</td>\n",
       "      <td>2025-09-18 14:09:01</td>\n",
       "    </tr>\n",
       "    <tr>\n",
       "      <th>2</th>\n",
       "      <td>3</td>\n",
       "      <td>101003</td>\n",
       "      <td>김나래</td>\n",
       "      <td>2025-09-18 14:09:01</td>\n",
       "    </tr>\n",
       "    <tr>\n",
       "      <th>3</th>\n",
       "      <td>4</td>\n",
       "      <td>101004</td>\n",
       "      <td>이재진</td>\n",
       "      <td>2025-09-18 14:09:01</td>\n",
       "    </tr>\n",
       "    <tr>\n",
       "      <th>4</th>\n",
       "      <td>5</td>\n",
       "      <td>101005</td>\n",
       "      <td>이진섭</td>\n",
       "      <td>2025-09-18 14:09:01</td>\n",
       "    </tr>\n",
       "  </tbody>\n",
       "</table>\n",
       "</div>"
      ],
      "text/plain": [
       "   id employee_id name             reg_date\n",
       "0   1      101001  박종욱  2025-09-18 14:09:01\n",
       "1   2      101002  강경란  2025-09-18 14:09:01\n",
       "2   3      101003  김나래  2025-09-18 14:09:01\n",
       "3   4      101004  이재진  2025-09-18 14:09:01\n",
       "4   5      101005  이진섭  2025-09-18 14:09:01"
      ]
     },
     "execution_count": 2,
     "metadata": {},
     "output_type": "execute_result"
    }
   ],
   "source": [
    "df = read_sql('select * from member')\n",
    "df.head()"
   ]
  },
  {
   "cell_type": "code",
   "execution_count": 6,
   "id": "9d2ac03a",
   "metadata": {},
   "outputs": [
    {
     "data": {
      "text/plain": [
       "[{'id': 1,\n",
       "  'employee_id': '101001',\n",
       "  'name': '박종욱',\n",
       "  'reg_date': '2025-09-18 14:09:01'},\n",
       " {'id': 2,\n",
       "  'employee_id': '101002',\n",
       "  'name': '강경란',\n",
       "  'reg_date': '2025-09-18 14:09:01'},\n",
       " {'id': 3,\n",
       "  'employee_id': '101003',\n",
       "  'name': '김나래',\n",
       "  'reg_date': '2025-09-18 14:09:01'},\n",
       " {'id': 4,\n",
       "  'employee_id': '101004',\n",
       "  'name': '이재진',\n",
       "  'reg_date': '2025-09-18 14:09:01'},\n",
       " {'id': 5,\n",
       "  'employee_id': '101005',\n",
       "  'name': '이진섭',\n",
       "  'reg_date': '2025-09-18 14:09:01'},\n",
       " {'id': 6,\n",
       "  'employee_id': '101006',\n",
       "  'name': '장찬영',\n",
       "  'reg_date': '2025-09-18 14:09:01'},\n",
       " {'id': 7,\n",
       "  'employee_id': '101007',\n",
       "  'name': '전민우',\n",
       "  'reg_date': '2025-09-18 14:09:01'},\n",
       " {'id': 8,\n",
       "  'employee_id': '101008',\n",
       "  'name': '차요준',\n",
       "  'reg_date': '2025-09-18 14:09:01'}]"
      ]
     },
     "execution_count": 6,
     "metadata": {},
     "output_type": "execute_result"
    }
   ],
   "source": [
    "df.to_dict(orient='records')"
   ]
  },
  {
   "cell_type": "code",
   "execution_count": 8,
   "id": "5e1801e6",
   "metadata": {},
   "outputs": [],
   "source": [
    "import json\n",
    "with open('./member.json','w') as f:\n",
    "    json.dump(df.to_dict(orient='records'), f, indent=4)"
   ]
  },
  {
   "cell_type": "code",
   "execution_count": null,
   "id": "02288df7",
   "metadata": {},
   "outputs": [],
   "source": []
  }
 ],
 "metadata": {
  "kernelspec": {
   "display_name": "detector-api",
   "language": "python",
   "name": "python3"
  },
  "language_info": {
   "codemirror_mode": {
    "name": "ipython",
    "version": 3
   },
   "file_extension": ".py",
   "mimetype": "text/x-python",
   "name": "python",
   "nbconvert_exporter": "python",
   "pygments_lexer": "ipython3",
   "version": "3.11.13"
  }
 },
 "nbformat": 4,
 "nbformat_minor": 5
}
